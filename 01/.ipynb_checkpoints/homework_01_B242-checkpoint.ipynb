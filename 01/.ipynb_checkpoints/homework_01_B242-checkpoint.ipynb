{
 "cells": [
  {
   "cell_type": "markdown",
   "metadata": {},
   "source": [
    "# Úkol č. 1 - redukce dimenzionality a binární klasifikace\n",
    "\n",
    "* Termíny jsou uvedeny na [courses.fit.cvut.cz/BI-ML2/homeworks/index.html](https://courses.fit.cvut.cz/BI-ML2/homeworks/index.html).\n",
    "* Pokud odevzdáte úkol po prvním termínu ale před nejzazším termínem, budete penalizování -12 body, pozdější odevzdání je bez bodu.\n",
    "* V rámci tohoto úkolu se musíte vypořádat s vysokou dimenzí problému a poté úspěšně aplikovat vhodný klasfikační model.\n",
    "    \n",
    "> **Úkoly jsou zadány tak, aby Vám daly prostor pro invenci. Vymyslet _jak přesně_ budete úkol řešit, je důležitou součástí zadání a originalita či nápaditost bude také hodnocena!**\n",
    "\n",
    "Využívejte buňky typu `Markdown` k vysvětlování Vašeho postupu. Za nepřehlednost budou strhávány body.\n",
    "\n",
    "## Zdroj dat\n",
    "\n",
    " * Zdrojem dat jsou soubory `train.csv` a `evaluate.csv`.\n",
    " * Jedná se o obrázky 28x28 pixelů ve stupních šedi, které byly získány z [Fashion Mnist datasetu](https://www.kaggle.com/datasets/zalando-research/fashionmnist).\n",
    " * Soubor `train.csv` obsahuje trénovací data.\n",
    " * Cílová (vysvětlovaná) proměnná se jmenuje **label**.\n",
    " * Soubor `evaluate.csv` obsahuje testovací data bez hodnot skutečných labelů.\n",
    "\n",
    "## Pokyny k vypracování\n",
    "\n",
    "**Body zadání**, za jejichž (poctivé) vypracování získáte **25 bodů**:\n",
    "  * V notebooku načtěte data ze souboru `train.csv`. Vhodným způsobem si je rozdělte na podmnožiny, které Vám poslouží pro trénování, porovnávání modelů a následnou predikci výkonnosti finálního modelu.\n",
    "  * Proveďte základní průzkum dat a svá pozorování diskutujte. Některé obrázky také zobrazte.\n",
    "  * Postupně aplikujte modely **SVM**, **naivní Bayesův klasifikátor** a **LDA**, přičemž pro každý z nich:\n",
    "      * Okomentujte vhodnost daného modelu pro daný typ úlohy.\n",
    "      * Vyberte si hlavní hyperparametry k ladění (pokud model má hyperparametry) a najděte jejich nejlepší hodnoty.\n",
    "      * U SVM vyzkoušejte alespoň dvě různé jádrové funkce.\n",
    "      * Získané výsledky vždy řádně okomentujte.\n",
    "<br/><br/>\n",
    "\n",
    "  * Použijte natrénovaný generativní model Naivního Bayesova klasifikátoru nebo Lineární diskriminační analýzy (podle Vaší volby) a vygenerujte pro každou třídu 5 datových bodů, které následně přetransformujte do rozměrů 28x28 a zobrazte pomocí `imshow`. Diskutujte kvalitu vygenerovaných dat. K vygenerování můžete využít funkci [multivariate_normal](https://numpy.org/doc/2.2/reference/random/generated/numpy.random.multivariate_normal.html) z `numpy`.\n",
    "\n",
    "  * Postupně aplikujte metody redukce dimenzionality PCA a LLE, přičemž pro každou z nich: \n",
    "      * Zopakujte předchozí kroky aplikace modelů (žádné další generování už nedělejte) a pokuste se je vylepšit.\n",
    "      * Zkoumejte jaká dimenze je z hlediska výkonnosti finálního modelu nejlepší.\n",
    "      * Získané výsledky vždy řádně okomentujte.\n",
    "<br/><br/>\n",
    "    \n",
    "  * Ze všech zkoušených možností vyberte finální model a odhadněte, jakou přesnost můžete očekávat na nových datech, která jste doposud neměli k dispozici. _Pozor na metodické chyby!_\n",
    "  \n",
    "  * Nakonec načtěte vyhodnocovací data ze souboru`evaluate.csv`. Pomocí finálního modelu napočítejte predikce pro tyto data (vysvětlovaná proměnná v nich již není). Vytvořte soubor `results.csv`, ve kterém získané predikce uložíte do sloupce **label** a identifikátory do sloupce **ID**. Tento soubor též odevzdejte (uložte do projektu vedle notebooku).\n",
    "   \n",
    "       * Ukázka, jak by mělo vypadat prvních několik řádků souboru `results.csv` (obecně s jinými hodnotami):\n",
    "  \n",
    "```\n",
    "ID,label\n",
    "0,0\n",
    "1,1\n",
    "...\n",
    "```\n",
    "\n",
    "## Poznámky k odevzdání\n",
    "\n",
    "  * Řiďte se pokyny ze stránky https://courses.fit.cvut.cz/BI-ML2/homeworks/index.html.\n",
    "  * Vytvořte i csv soubor `results.csv` s predikcemi a uložte ho v rámci projektu vedle ipython notebooku."
   ]
  },
  {
   "cell_type": "code",
   "execution_count": 75,
   "metadata": {},
   "outputs": [],
   "source": [
    "import pandas as pd\n",
    "import numpy as np\n",
    "\n",
    "random_seed = 42\n",
    "\n",
    "from sklearn.model_selection import train_test_split\n",
    "import matplotlib.pyplot as plt\n",
    "from sklearn.svm import SVC\n",
    "from sklearn.model_selection import ParameterGrid\n",
    "from sklearn import metrics\n",
    "from sklearn.naive_bayes import GaussianNB\n",
    "from sklearn.preprocessing import MinMaxScaler\n",
    "from sklearn.preprocessing import StandardScaler\n",
    "from sklearn.discriminant_analysis import LinearDiscriminantAnalysis\n",
    "from sklearn.decomposition import PCA\n",
    "from sklearn.manifold import LocallyLinearEmbedding"
   ]
  },
  {
   "cell_type": "markdown",
   "metadata": {},
   "source": [
    "## Příprava a přehled dat"
   ]
  },
  {
   "cell_type": "markdown",
   "metadata": {},
   "source": [
    "Data si uložím do proměnných a rozdělím na trénovací, validační a testovací množiny. Pro pozdější užití vytvořím i jejich normalizované a standardizované kopie."
   ]
  },
  {
   "cell_type": "code",
   "execution_count": 3,
   "metadata": {},
   "outputs": [],
   "source": [
    "data = pd.read_csv(\"train.csv\")\n",
    "evl = pd.read_csv(\"evaluate.csv\")"
   ]
  },
  {
   "cell_type": "code",
   "execution_count": 4,
   "metadata": {},
   "outputs": [],
   "source": [
    "Xdata = data.drop(columns=\"label\")\n",
    "Ydata = data.label"
   ]
  },
  {
   "cell_type": "code",
   "execution_count": 105,
   "metadata": {},
   "outputs": [],
   "source": [
    "scaler = MinMaxScaler()\n",
    "XtrainMinMax = pd.DataFrame(scaler.fit_transform(Xtrain), index=Xtrain.index, columns=Xtrain.columns)\n",
    "XvalMinMax = pd.DataFrame(scaler.transform(Xval), index=Xval.index, columns=Xval.columns)\n",
    "XtestMinMax = pd.DataFrame(scaler.transform(Xval), index=Xval.index, columns=Xval.columns)"
   ]
  },
  {
   "cell_type": "code",
   "execution_count": 18,
   "metadata": {},
   "outputs": [],
   "source": [
    "scaler = StandardScaler()\n",
    "XtrainStandard = pd.DataFrame(scaler.fit_transform(Xtrain), index=Xtrain.index, columns=Xtrain.columns)\n",
    "XvalStandard = pd.DataFrame(scaler.transform(Xval), index=Xval.index, columns=Xval.columns)"
   ]
  },
  {
   "cell_type": "code",
   "execution_count": 5,
   "metadata": {},
   "outputs": [],
   "source": [
    "Xtrain, Xtest, Ytrain, Ytest = train_test_split(Xdata, Ydata, test_size=0.4, random_state=random_seed)\n",
    "Xval, Xtest, Yval, Ytest = train_test_split(Xtest, Ytest, test_size=0.5, random_state=random_seed)"
   ]
  },
  {
   "cell_type": "code",
   "execution_count": 125,
   "metadata": {},
   "outputs": [
    {
     "name": "stdout",
     "output_type": "stream",
     "text": [
      "(array([0, 1]), array([158, 142]))\n"
     ]
    }
   ],
   "source": [
    "print(np.unique(Ytest, return_counts=True))"
   ]
  },
  {
   "cell_type": "markdown",
   "metadata": {},
   "source": [
    "Dataset obsahuje 1500 vzorků a každý obrázek má 784 pixelů, každý pixel nabývá hodnot od 0 do 255."
   ]
  },
  {
   "cell_type": "code",
   "execution_count": 6,
   "metadata": {},
   "outputs": [
    {
     "name": "stdout",
     "output_type": "stream",
     "text": [
      "(1500, 785)\n"
     ]
    },
    {
     "data": {
      "text/html": [
       "<div>\n",
       "<style scoped>\n",
       "    .dataframe tbody tr th:only-of-type {\n",
       "        vertical-align: middle;\n",
       "    }\n",
       "\n",
       "    .dataframe tbody tr th {\n",
       "        vertical-align: top;\n",
       "    }\n",
       "\n",
       "    .dataframe thead th {\n",
       "        text-align: right;\n",
       "    }\n",
       "</style>\n",
       "<table border=\"1\" class=\"dataframe\">\n",
       "  <thead>\n",
       "    <tr style=\"text-align: right;\">\n",
       "      <th></th>\n",
       "      <th>label</th>\n",
       "      <th>pixel1</th>\n",
       "      <th>pixel2</th>\n",
       "      <th>pixel3</th>\n",
       "      <th>pixel4</th>\n",
       "      <th>pixel5</th>\n",
       "      <th>pixel6</th>\n",
       "      <th>pixel7</th>\n",
       "      <th>pixel8</th>\n",
       "      <th>pixel9</th>\n",
       "      <th>...</th>\n",
       "      <th>pixel775</th>\n",
       "      <th>pixel776</th>\n",
       "      <th>pixel777</th>\n",
       "      <th>pixel778</th>\n",
       "      <th>pixel779</th>\n",
       "      <th>pixel780</th>\n",
       "      <th>pixel781</th>\n",
       "      <th>pixel782</th>\n",
       "      <th>pixel783</th>\n",
       "      <th>pixel784</th>\n",
       "    </tr>\n",
       "  </thead>\n",
       "  <tbody>\n",
       "    <tr>\n",
       "      <th>0</th>\n",
       "      <td>0</td>\n",
       "      <td>0</td>\n",
       "      <td>0</td>\n",
       "      <td>0</td>\n",
       "      <td>0</td>\n",
       "      <td>0</td>\n",
       "      <td>0</td>\n",
       "      <td>0</td>\n",
       "      <td>0</td>\n",
       "      <td>0</td>\n",
       "      <td>...</td>\n",
       "      <td>0</td>\n",
       "      <td>0</td>\n",
       "      <td>0</td>\n",
       "      <td>0</td>\n",
       "      <td>0</td>\n",
       "      <td>0</td>\n",
       "      <td>0</td>\n",
       "      <td>0</td>\n",
       "      <td>0</td>\n",
       "      <td>0</td>\n",
       "    </tr>\n",
       "    <tr>\n",
       "      <th>1</th>\n",
       "      <td>0</td>\n",
       "      <td>0</td>\n",
       "      <td>0</td>\n",
       "      <td>0</td>\n",
       "      <td>0</td>\n",
       "      <td>1</td>\n",
       "      <td>0</td>\n",
       "      <td>0</td>\n",
       "      <td>1</td>\n",
       "      <td>0</td>\n",
       "      <td>...</td>\n",
       "      <td>0</td>\n",
       "      <td>0</td>\n",
       "      <td>0</td>\n",
       "      <td>0</td>\n",
       "      <td>95</td>\n",
       "      <td>132</td>\n",
       "      <td>90</td>\n",
       "      <td>0</td>\n",
       "      <td>0</td>\n",
       "      <td>0</td>\n",
       "    </tr>\n",
       "    <tr>\n",
       "      <th>2</th>\n",
       "      <td>1</td>\n",
       "      <td>0</td>\n",
       "      <td>0</td>\n",
       "      <td>0</td>\n",
       "      <td>0</td>\n",
       "      <td>0</td>\n",
       "      <td>0</td>\n",
       "      <td>3</td>\n",
       "      <td>0</td>\n",
       "      <td>23</td>\n",
       "      <td>...</td>\n",
       "      <td>94</td>\n",
       "      <td>68</td>\n",
       "      <td>44</td>\n",
       "      <td>0</td>\n",
       "      <td>0</td>\n",
       "      <td>0</td>\n",
       "      <td>0</td>\n",
       "      <td>0</td>\n",
       "      <td>0</td>\n",
       "      <td>0</td>\n",
       "    </tr>\n",
       "    <tr>\n",
       "      <th>3</th>\n",
       "      <td>0</td>\n",
       "      <td>0</td>\n",
       "      <td>0</td>\n",
       "      <td>0</td>\n",
       "      <td>0</td>\n",
       "      <td>0</td>\n",
       "      <td>0</td>\n",
       "      <td>0</td>\n",
       "      <td>1</td>\n",
       "      <td>0</td>\n",
       "      <td>...</td>\n",
       "      <td>57</td>\n",
       "      <td>0</td>\n",
       "      <td>0</td>\n",
       "      <td>0</td>\n",
       "      <td>26</td>\n",
       "      <td>71</td>\n",
       "      <td>0</td>\n",
       "      <td>0</td>\n",
       "      <td>0</td>\n",
       "      <td>0</td>\n",
       "    </tr>\n",
       "    <tr>\n",
       "      <th>4</th>\n",
       "      <td>0</td>\n",
       "      <td>0</td>\n",
       "      <td>0</td>\n",
       "      <td>0</td>\n",
       "      <td>0</td>\n",
       "      <td>0</td>\n",
       "      <td>0</td>\n",
       "      <td>0</td>\n",
       "      <td>0</td>\n",
       "      <td>0</td>\n",
       "      <td>...</td>\n",
       "      <td>2</td>\n",
       "      <td>0</td>\n",
       "      <td>6</td>\n",
       "      <td>156</td>\n",
       "      <td>149</td>\n",
       "      <td>78</td>\n",
       "      <td>0</td>\n",
       "      <td>0</td>\n",
       "      <td>0</td>\n",
       "      <td>0</td>\n",
       "    </tr>\n",
       "  </tbody>\n",
       "</table>\n",
       "<p>5 rows × 785 columns</p>\n",
       "</div>"
      ],
      "text/plain": [
       "   label  pixel1  pixel2  pixel3  pixel4  pixel5  pixel6  pixel7  pixel8  \\\n",
       "0      0       0       0       0       0       0       0       0       0   \n",
       "1      0       0       0       0       0       1       0       0       1   \n",
       "2      1       0       0       0       0       0       0       3       0   \n",
       "3      0       0       0       0       0       0       0       0       1   \n",
       "4      0       0       0       0       0       0       0       0       0   \n",
       "\n",
       "   pixel9  ...  pixel775  pixel776  pixel777  pixel778  pixel779  pixel780  \\\n",
       "0       0  ...         0         0         0         0         0         0   \n",
       "1       0  ...         0         0         0         0        95       132   \n",
       "2      23  ...        94        68        44         0         0         0   \n",
       "3       0  ...        57         0         0         0        26        71   \n",
       "4       0  ...         2         0         6       156       149        78   \n",
       "\n",
       "   pixel781  pixel782  pixel783  pixel784  \n",
       "0         0         0         0         0  \n",
       "1        90         0         0         0  \n",
       "2         0         0         0         0  \n",
       "3         0         0         0         0  \n",
       "4         0         0         0         0  \n",
       "\n",
       "[5 rows x 785 columns]"
      ]
     },
     "execution_count": 6,
     "metadata": {},
     "output_type": "execute_result"
    }
   ],
   "source": [
    "print(data.shape)\n",
    "data.head()"
   ]
  },
  {
   "cell_type": "code",
   "execution_count": 8,
   "metadata": {},
   "outputs": [
    {
     "data": {
      "text/plain": [
       "0"
      ]
     },
     "execution_count": 8,
     "metadata": {},
     "output_type": "execute_result"
    }
   ],
   "source": [
    "data.isnull().sum().sum()"
   ]
  },
  {
   "cell_type": "markdown",
   "metadata": {},
   "source": [
    "Dataset neobsahuje žádné prázdné hodnoty. Není tedy nutné je doplňovat. Níže zobrazím 7 obrázků z každé kategorie. Kategorie jsou dvě - 0, která znamená nejspíš košile/saka a 1 znamená šaty."
   ]
  },
  {
   "cell_type": "code",
   "execution_count": 9,
   "metadata": {},
   "outputs": [
    {
     "data": {
      "image/png": "[encoded data removed]",
      "text/plain": [
       "<Figure size 1400x200 with 7 Axes>"
      ]
     },
     "metadata": {},
     "output_type": "display_data"
    },
    {
     "data": {
      "image/png": "[encoded data removed]",
      "text/plain": [
       "<Figure size 1400x200 with 7 Axes>"
      ]
     },
     "metadata": {},
     "output_type": "display_data"
    }
   ],
   "source": [
    "def show_images(df, label, n):\n",
    "    imgs = df[df['label'] == label].iloc[:n, 1:].values.reshape(-1, 28, 28)\n",
    "    fig, axes = plt.subplots(1, n, figsize=(n * 2, 2))\n",
    "    for i, img in enumerate(imgs):\n",
    "        axes[i].imshow(img, cmap='gray')\n",
    "        axes[i].set_title(f'Label: {label}')\n",
    "        axes[i].axis('off')\n",
    "    plt.show()\n",
    "\n",
    "show_images(data, label=0, n=7)\n",
    "show_images(data, label=1, n=7)"
   ]
  },
  {
   "cell_type": "markdown",
   "metadata": {},
   "source": [
    "## Metoda podpůrných vektorů"
   ]
  },
  {
   "cell_type": "markdown",
   "metadata": {},
   "source": [
    "### Výhody \n",
    "* poradí si s vysokodimenzionálními daty i bez redukce dimenze\n",
    "* díky regularizačnímu parametru C je robustní vůči přeučení\n",
    "* vhodný pro binární klasifikaci\n",
    "* vysoká přesnost\n",
    "* využívá jádrové funkce, díky tomu se umí přizpůsobit různě distribuovaným datům\n",
    "\n",
    "### Nevýhody\n",
    "* výpočetně a paměťově náročnější\n",
    "\n",
    "### Hyperparametry\n",
    "* **C**: regularizační parametr, větší C znamená méně chyb, ale větší margin, menší C opak\n",
    "* **kernel**: jádrová funkce, která rozděluje prostor vysvětlované proměnné na dvě části\n",
    "* **gamma**: parametr pro jádrové funkce rbf a poly, určuje, jak blízké body se budou brát v potaz\n",
    "* **degree**: stupeň polynomu pro poly jádrovou funkci\n",
    "* **normalization**: SVM funguje lépe, pokud jsou data ve stejném rozsahu, proto zkouším normalizace"
   ]
  },
  {
   "cell_type": "code",
   "execution_count": 131,
   "metadata": {},
   "outputs": [
    {
     "name": "stdout",
     "output_type": "stream",
     "text": [
      "Počet možných kombinací hyperparametrů: 270\n"
     ]
    }
   ],
   "source": [
    "SVM_param_grid = {\n",
    "    'C': [0.01, 0.1, 1, 10, 100],\n",
    "    'kernel' : ['poly', 'rbf', 'linear'],\n",
    "    'gamma': ['scale', 'auto'],\n",
    "    'degree': [2, 3, 4],\n",
    "    'normalization' : [None, 'MinMax', 'Standard']\n",
    "}\n",
    "\n",
    "SVM_param_comb = ParameterGrid(SVM_param_grid)\n",
    "print(f\"Počet možných kombinací hyperparametrů: {len(SVM_param_comb)}\")"
   ]
  },
  {
   "cell_type": "code",
   "execution_count": 129,
   "metadata": {},
   "outputs": [],
   "source": [
    "SVM_best_params = None\n",
    "SVM_train_acc = []\n",
    "SVM_val_acc = []\n",
    "\n",
    "for par in SVM_param_comb:\n",
    "    XtrainCopy = Xtrain.copy()\n",
    "    XvalCopy = Xval.copy()\n",
    "    \n",
    "    if par['normalization'] == 'Standard':\n",
    "        XtrainCopy = XtrainStandard.copy()\n",
    "        XvalCopy = XvalStandard.copy()\n",
    "    elif par['normalization'] == 'MinMax':\n",
    "        XtrainCopy = XtrainMinMax.copy()\n",
    "        XvalCopy = XvalMinMax.copy()\n",
    "    \n",
    "    clf = SVC(C=par['C'], kernel=par['kernel'], gamma=par['gamma'], degree=par['degree'])\n",
    "    clf.fit(XtrainCopy, Ytrain)\n",
    "    SVM_train_acc.append(metrics.accuracy_score(Ytrain, clf.predict(XtrainCopy)))\n",
    "    SVM_val_acc.append(metrics.accuracy_score(Yval, clf.predict(XvalCopy)))"
   ]
  },
  {
   "cell_type": "code",
   "execution_count": 130,
   "metadata": {},
   "outputs": [
    {
     "name": "stdout",
     "output_type": "stream",
     "text": [
      "Nejlepší parametry pro SVM: {'normalization': 'MinMax', 'kernel': 'rbf', 'gamma': 'auto', 'degree': 2, 'C': 10}\n"
     ]
    }
   ],
   "source": [
    "SVM_best_params = SVM_param_comb[np.argmax(SVM_val_acc)]\n",
    "print('Nejlepší parametry pro SVM:', SVM_best_params)"
   ]
  },
  {
   "cell_type": "code",
   "execution_count": 28,
   "metadata": {},
   "outputs": [
    {
     "name": "stdout",
     "output_type": "stream",
     "text": [
      "Přesnost na trénovací množině: 0.968889\n",
      "Přesnost na validační množině: 0.936667\n"
     ]
    }
   ],
   "source": [
    "SVM_best_params.pop('normalization', None)\n",
    "SVM_best_clf = SVC(**SVM_best_params) \n",
    "SVM_best_clf.fit(XtrainMinMax, Ytrain)\n",
    "SVM_val_acc_best = metrics.accuracy_score(Yval, SVM_best_clf.predict(XvalMinMax))\n",
    "print('Přesnost na trénovací množině: {0:.6f}'.format(metrics.accuracy_score(Ytrain, SVM_best_clf.predict(XtrainMinMax))))\n",
    "print('Přesnost na validační množině: {0:.6f}'.format(SVM_val_acc_best))"
   ]
  },
  {
   "cell_type": "code",
   "execution_count": 27,
   "metadata": {},
   "outputs": [
    {
     "name": "stdout",
     "output_type": "stream",
     "text": [
      "Počet podpůrných vektorů 176 tvoří 19.6 % trénovací množiny.\n"
     ]
    }
   ],
   "source": [
    "SV = SVM_best_clf.support_.shape[0]\n",
    "print(f\"Počet podpůrných vektorů {SV} tvoří {100*SV/Xtrain.shape[0]:.1f} % trénovací množiny.\")"
   ]
  },
  {
   "cell_type": "markdown",
   "metadata": {},
   "source": [
    "Přesnost mi vyšla velmi vysoká. \n",
    "Podpůrných vektorů je pouze necelých 20 procent z celých trénovacích dat, což je dobrý výsledek. Znamená to, že model našel dobře oddělitelnou hranici mezi oběma třídami, což povede k lepší generalizaci a přesnosti na datech, která ještě neviděl. "
   ]
  },
  {
   "cell_type": "markdown",
   "metadata": {},
   "source": [
    "## Naivní Bayesův klasifikátor"
   ]
  },
  {
   "cell_type": "markdown",
   "metadata": {},
   "source": [
    "### Výhody \n",
    "* rychlost - model počítá pravděpodobnosti\n",
    "* jednoduchý model - nemá žádné hyperparametry, já opět zkouším jen normalizace dat \n",
    "\n",
    "### Nevýhody\n",
    "* předpokládá nezávislost vstupních atributů, to však není vždy splněno, ale i přesto někdy dává překvapivě dobré výsledky\n",
    "* pokud nejsou splněny předpoklady, vede k horším výsledkům"
   ]
  },
  {
   "cell_type": "code",
   "execution_count": 33,
   "metadata": {},
   "outputs": [],
   "source": [
    "NB_best_params = None\n",
    "NB_train_acc = []\n",
    "NB_val_acc = []\n",
    "NB_param_grid = {\n",
    "    'normalization' : ['MinMax', 'Standard', 'No']\n",
    "}\n",
    "NB_param_comb = ParameterGrid(NB_param_grid)"
   ]
  },
  {
   "cell_type": "code",
   "execution_count": 133,
   "metadata": {},
   "outputs": [],
   "source": [
    "for par in NB_param_comb:\n",
    "    XtrainCopy = Xtrain.copy()\n",
    "    XvalCopy = Xval.copy()\n",
    "    \n",
    "    if par['normalization'] == 'Standard':\n",
    "        XtrainCopy = XtrainStandard.copy()\n",
    "        XvalCopy = XvalStandard.copy()\n",
    "    elif par['normalization'] == 'MinMax':\n",
    "        XtrainCopy = XtrainMinMax.copy()\n",
    "        XvalCopy = XvalMinMax.copy()\n",
    "    \n",
    "    clf = GaussianNB();\n",
    "    clf.fit(XtrainCopy, Ytrain)\n",
    "    NB_train_acc.append(metrics.accuracy_score(Ytrain, clf.predict(XtrainCopy)))\n",
    "    NB_val_acc.append(metrics.accuracy_score(Yval, clf.predict(XvalCopy)))"
   ]
  },
  {
   "cell_type": "code",
   "execution_count": 134,
   "metadata": {},
   "outputs": [
    {
     "name": "stdout",
     "output_type": "stream",
     "text": [
      "Nejlepší parametry pro NB: {'normalization': 'MinMax'}\n"
     ]
    }
   ],
   "source": [
    "NB_best_params = NB_param_comb[np.argmax(NB_val_acc)]\n",
    "print('Nejlepší parametry pro NB:', NB_best_params)"
   ]
  },
  {
   "cell_type": "code",
   "execution_count": 135,
   "metadata": {},
   "outputs": [
    {
     "name": "stdout",
     "output_type": "stream",
     "text": [
      "Přesnost na trénovací množině: 0.878889\n",
      "Přesnost na validační množině: 0.836667\n"
     ]
    }
   ],
   "source": [
    "NB_best_clf = GaussianNB();\n",
    "NB_best_clf.fit(XtrainMinMax, Ytrain)\n",
    "NB_val_acc_best = metrics.accuracy_score(Yval, NB_best_clf.predict(XvalMinMax))\n",
    "print('Přesnost na trénovací množině: {0:.6f}'.format(metrics.accuracy_score(Ytrain, NB_best_clf.predict(XtrainMinMax))))\n",
    "print('Přesnost na validační množině: {0:.6f}'.format(NB_val_acc_best))"
   ]
  },
  {
   "cell_type": "code",
   "execution_count": 137,
   "metadata": {},
   "outputs": [
    {
     "name": "stdout",
     "output_type": "stream",
     "text": [
      "Z 300 bodů validační množiny je špatně klasifikovaných: 49\n"
     ]
    }
   ],
   "source": [
    "Ypred = NB_best_clf.predict(XvalMinMax)\n",
    "print(f\"Z {Xval.shape[0]} bodů validační množiny je špatně klasifikovaných: {(Yval != Ypred).sum()}\")"
   ]
  },
  {
   "cell_type": "markdown",
   "metadata": {},
   "source": [
    "## Lineární diskriminační analýza"
   ]
  },
  {
   "cell_type": "markdown",
   "metadata": {},
   "source": [
    "### Výhody \n",
    "* rychlost\n",
    "* robustní vůči multikolinearitě\n",
    "\n",
    "### Nevýhody\n",
    "* nevhodné pro nelineární data\n",
    "* předpokládá pro jednotlivé třídy normální rozdělení, což nemusí být vždy splněno\n",
    "\n",
    "Opět nemá hyperparametry, takže jen zkusím normalizaci dat."
   ]
  },
  {
   "cell_type": "code",
   "execution_count": 44,
   "metadata": {},
   "outputs": [],
   "source": [
    "LDA_best_params = None\n",
    "LDA_train_acc = []\n",
    "LDA_val_acc = []"
   ]
  },
  {
   "cell_type": "code",
   "execution_count": 47,
   "metadata": {},
   "outputs": [],
   "source": [
    "for par in NB_param_comb:\n",
    "    XtrainCopy = Xtrain.copy()\n",
    "    XvalCopy = Xval.copy()\n",
    "    \n",
    "    if par['normalization'] == 'Standard':\n",
    "        XtrainCopy = XtrainStandard.copy()\n",
    "        XvalCopy = XvalStandard.copy()\n",
    "    elif par['normalization'] == 'MinMax':\n",
    "        XtrainCopy = XtrainMinMax.copy()\n",
    "        XvalCopy = XvalMinMax.copy()\n",
    "    \n",
    "    clf = LinearDiscriminantAnalysis();\n",
    "    clf.fit(XtrainCopy, Ytrain)\n",
    "    LDA_train_acc.append(metrics.accuracy_score(Ytrain, clf.predict(XtrainCopy)))\n",
    "    LDA_val_acc.append(metrics.accuracy_score(Yval, clf.predict(XvalCopy)))"
   ]
  },
  {
   "cell_type": "code",
   "execution_count": 138,
   "metadata": {},
   "outputs": [
    {
     "name": "stdout",
     "output_type": "stream",
     "text": [
      "Nejlepší parametry pro LDA: {'normalization': 'MinMax'}\n"
     ]
    }
   ],
   "source": [
    "LDA_best_params = NB_param_comb[np.argmax(LDA_val_acc)]\n",
    "print('Nejlepší parametry pro LDA:', LDA_best_params)"
   ]
  },
  {
   "cell_type": "code",
   "execution_count": 139,
   "metadata": {},
   "outputs": [
    {
     "name": "stdout",
     "output_type": "stream",
     "text": [
      "Přesnost na trénovací množině: 1.000000\n",
      "Přesnost na validační množině: 0.800000\n"
     ]
    }
   ],
   "source": [
    "LDA_best_clf = LinearDiscriminantAnalysis();\n",
    "LDA_best_clf.fit(XtrainMinMax, Ytrain)\n",
    "LDA_val_acc_best = metrics.accuracy_score(Yval, LDA_best_clf.predict(XvalMinMax))\n",
    "print('Přesnost na trénovací množině: {0:.6f}'.format(metrics.accuracy_score(Ytrain, LDA_best_clf.predict(XtrainMinMax))))\n",
    "print('Přesnost na validační množině: {0:.6f}'.format(LDA_val_acc_best))"
   ]
  },
  {
   "cell_type": "markdown",
   "metadata": {},
   "source": [
    "Dokonalá přesnost na trénovacích datech může vzbudit obavy z přeučení, avšak 80 procent na validačních značí dobrou výkonnost modelu."
   ]
  },
  {
   "cell_type": "markdown",
   "metadata": {},
   "source": [
    "## Generování nových bodů"
   ]
  },
  {
   "cell_type": "markdown",
   "metadata": {},
   "source": [
    "K vygenerování nových obrázků používám funkci multivariate_normal, která pro obě třídy spočítá průměr a kovarianční matici. Průměr slouží k určení průměrného obrázku z každé třídy, kovarianční matice k určení rozptylu a závislosti mezi pixely. Z těchto hodnot i za pomocí náhody vytvoří 5 obrázků připomínající původní data pro každou třídu."
   ]
  },
  {
   "cell_type": "code",
   "execution_count": 142,
   "metadata": {},
   "outputs": [
    {
     "data": {
      "image/png": "[encoded data removed]",
      "text/plain": [
       "<Figure size 1000x400 with 10 Axes>"
      ]
     },
     "metadata": {},
     "output_type": "display_data"
    }
   ],
   "source": [
    "lda = LinearDiscriminantAnalysis()\n",
    "lda.fit(XtrainMinMax, Ytrain)\n",
    "\n",
    "classes = np.unique(Ytrain)\n",
    "n_samples = 5\n",
    "\n",
    "fig, axs = plt.subplots(len(classes), n_samples, figsize=(10, 4))\n",
    "\n",
    "for i, cls in enumerate(classes):\n",
    "    class_data = XtrainMinMax[Ytrain == cls]\n",
    "\n",
    "    mean = class_data.mean(axis=0)\n",
    "    cov = np.cov(class_data, rowvar=False)\n",
    "\n",
    "    samples = np.random.multivariate_normal(mean, cov, n_samples)\n",
    "\n",
    "    for j in range(n_samples):\n",
    "        img = samples[j].reshape(28, 28)\n",
    "        axs[i, j].imshow(img, cmap='gray')\n",
    "        axs[i, j].axis('off')\n",
    "        if j == 0:\n",
    "            axs[i, j].set_title(f\"Třída {cls}\")\n",
    "\n",
    "plt.tight_layout()\n",
    "plt.show()"
   ]
  },
  {
   "cell_type": "markdown",
   "metadata": {},
   "source": [
    "Mezi původními obrázky jde vidět významný rozdíl. Tyto nové jsou více rozmazané a oděvy nemají vždy jasné hranice, dokonce to někdy i vypadá, že je více oděvů na jednom obrázku, ale i tak jde poznat, jaký kus oblečení na obrázku je. Takto si model představuje průměrné případy z každé třídy. Dále na původních datech je černé pozadí, ale na nových obrázcích je pozadí šedivé. To se děje proto, že funkce počítá s průměrem barvy pixelů, a ten nikdy nemůže být 0 - tedy černá, protože se do něj započítávají i pixely označující oděv."
   ]
  },
  {
   "cell_type": "markdown",
   "metadata": {},
   "source": [
    "## Redukce dimenzionality"
   ]
  },
  {
   "cell_type": "code",
   "execution_count": 230,
   "metadata": {},
   "outputs": [
    {
     "name": "stdout",
     "output_type": "stream",
     "text": [
      "27\n"
     ]
    }
   ],
   "source": [
    "zero_pixels = sum((Xtrain == 0).all())\n",
    "print(zero_pixels)"
   ]
  },
  {
   "cell_type": "markdown",
   "metadata": {},
   "source": [
    "V trénovacím datasetu je 27 pixelů, které jsou na každém obrázku černé, tyto pixely a sloupce jsou pro trénování nepotřebné a proto by redukce dimenze mohla vést k přesnějším modelům."
   ]
  },
  {
   "cell_type": "markdown",
   "metadata": {},
   "source": [
    "### PCA"
   ]
  },
  {
   "cell_type": "markdown",
   "metadata": {},
   "source": [
    "Principal component analysis - analýza hlavních komponentů transformuje vysokorozměrná data do podoby, kdy obsahují pouze určité množství hlavních komponent (příznaků, dimenzí), které vznikají jako lineární kombinace původních příznaků. Postupně ji použiju na modely SVM, NB a LDA."
   ]
  },
  {
   "cell_type": "markdown",
   "metadata": {},
   "source": [
    "#### Metoda podpůrných vektorů"
   ]
  },
  {
   "cell_type": "markdown",
   "metadata": {},
   "source": [
    "Jelikož by učení za použití mého původního množství hyperparametrů trvalo příliš dlouho, zredukovala jsem je na pouze dva nejdůležitější a zúžila z nich výběr. Dále používám maximálně 80 komponent, protože poté se už přesnost modelu nezvyšuje."
   ]
  },
  {
   "cell_type": "code",
   "execution_count": 206,
   "metadata": {},
   "outputs": [],
   "source": [
    "PCA_SVM_param_grid = {\n",
    "    'C': [0.1, 1, 10],   \n",
    "    'kernel': ['poly', 'rbf']        \n",
    "}\n",
    "PCA_SVM_param_comb = ParameterGrid(PCA_SVM_param_grid) "
   ]
  },
  {
   "cell_type": "code",
   "execution_count": 207,
   "metadata": {},
   "outputs": [],
   "source": [
    "PCA_SVM_val_acc = []\n",
    "PCA_SVM_best_acc = 0\n",
    "PCA_SVM_best_dim = 0\n",
    "PCA_SVM_best_model = None\n",
    "best_pca_SVM = None\n",
    "best_config_pca_svm = {}\n",
    "\n",
    "for i in range(1, 80, 3):\n",
    "    pca = PCA(n_components=i)\n",
    "    Xtrain_pca = pca.fit_transform(Xtrain)\n",
    "    Xval_pca = pca.transform(Xval)\n",
    "\n",
    "    for par in PCA_SVM_param_comb:\n",
    "        clf = SVC(C=par['C'], kernel=par['kernel'])\n",
    "        clf.fit(Xtrain_pca, Ytrain)  \n",
    "        current_val_acc = metrics.accuracy_score(Yval, clf.predict(Xval_pca))  \n",
    "        PCA_SVM_val_acc.append(current_val_acc) \n",
    "    \n",
    "        if current_val_acc > PCA_SVM_best_acc:\n",
    "            PCA_SVM_best_acc = current_val_acc\n",
    "            PCA_SVM_best_dim = i\n",
    "            PCA_SVM_best_model = clf\n",
    "            best_pca_SVM = pca\n",
    "            best_config_pca_svm = {\n",
    "                'pca_n_components': i,\n",
    "                'svc_C': par['C'],\n",
    "                'svc_kernel': par['kernel']\n",
    "            }"
   ]
  },
  {
   "cell_type": "code",
   "execution_count": 208,
   "metadata": {},
   "outputs": [
    {
     "name": "stdout",
     "output_type": "stream",
     "text": [
      "Nejlepší počet PCA komponent/dimenze: 55\n",
      "Validační přesnost při nejlepší dimenzi: 0.9533333333333334\n"
     ]
    }
   ],
   "source": [
    "print(\"Nejlepší počet PCA komponent/dimenze:\", PCA_SVM_best_dim)\n",
    "print(\"Validační přesnost při nejlepší dimenzi:\", PCA_SVM_best_acc)"
   ]
  },
  {
   "cell_type": "code",
   "execution_count": 212,
   "metadata": {},
   "outputs": [
    {
     "name": "stdout",
     "output_type": "stream",
     "text": [
      "Nejlepší parametry SVM:\n",
      "C: 10\n",
      "kernel: rbf\n"
     ]
    }
   ],
   "source": [
    "print(\"Nejlepší parametry SVM:\")\n",
    "print(f\"C: {best_config_pca_svm['svc_C']}\")\n",
    "print(f\"kernel: {best_config_pca_svm['svc_kernel']}\")"
   ]
  },
  {
   "cell_type": "code",
   "execution_count": 167,
   "metadata": {},
   "outputs": [
    {
     "data": {
      "image/png": "[encoded data removed]",
      "text/plain": [
       "<Figure size 1000x500 with 1 Axes>"
      ]
     },
     "metadata": {},
     "output_type": "display_data"
    }
   ],
   "source": [
    "dims = list(range(1, 100, 3))\n",
    "n_combinations = len(PCA_SVM_param_comb)\n",
    "val_acc_matrix = np.array(PCA_SVM_val_acc).reshape(len(dims), n_combinations)\n",
    "mean_val_acc = val_acc_matrix.mean(axis=1)\n",
    "\n",
    "plt.figure(figsize=(10, 5))\n",
    "plt.plot(dims, mean_val_acc, marker='o', linestyle='-', color='mediumorchid')\n",
    "plt.xlabel(\"Počet PCA komponent\")\n",
    "plt.ylabel(\"Průměrná validační přesnost\")\n",
    "plt.grid(True)\n",
    "plt.tight_layout()\n",
    "plt.show()"
   ]
  },
  {
   "cell_type": "markdown",
   "metadata": {},
   "source": [
    "Nejlepší dimenze vyšla 55. Výsledky jsem zobrazila do grafu, ze kterého je patrné, že při použití prvních pár komponent je přesnost modelu poměrně nízká, to protože jeden či tři příznaky nestačí k popsání celého chování dat, poté se ale výkonnost modelu zvyšuje a ke konci už jemně klesá."
   ]
  },
  {
   "cell_type": "markdown",
   "metadata": {},
   "source": [
    "#### Naivní Bayesův klasifikátor"
   ]
  },
  {
   "cell_type": "markdown",
   "metadata": {},
   "source": [
    "U NB a LDA nejsou hyperparametry k ladění, použiju tedy jen parametr počet komponent u PCA."
   ]
  },
  {
   "cell_type": "code",
   "execution_count": 155,
   "metadata": {},
   "outputs": [],
   "source": [
    "PCA_NB_val_acc = []\n",
    "PCA_NB_best_acc = 0\n",
    "PCA_NB_best_dim = 0\n",
    "PCA_NB_best_model = None\n",
    "best_pca_NB = None\n",
    "\n",
    "for i in range(1, 100, 3):\n",
    "    pca = PCA(n_components=i)\n",
    "    Xtrain_pca = pca.fit_transform(Xtrain)\n",
    "    Xval_pca = pca.transform(Xval)\n",
    "    \n",
    "    clf = GaussianNB()\n",
    "    clf.fit(Xtrain_pca, Ytrain)\n",
    "    \n",
    "    current_val_acc = metrics.accuracy_score(Yval, clf.predict(Xval_pca))\n",
    "    PCA_NB_val_acc.append(current_val_acc)\n",
    "    \n",
    "    if current_val_acc > PCA_NB_best_acc:\n",
    "        PCA_NB_best_acc = current_val_acc\n",
    "        PCA_NB_best_dim = i\n",
    "        PCA_NB_best_model = clf\n",
    "        best_pca_NB = pca"
   ]
  },
  {
   "cell_type": "code",
   "execution_count": 160,
   "metadata": {},
   "outputs": [
    {
     "name": "stdout",
     "output_type": "stream",
     "text": [
      "Nejlepší počet PCA komponent/dimenze: 94\n",
      "Validační přesnost při nejlepší dimenzi: 0.8866666666666667\n"
     ]
    }
   ],
   "source": [
    "print(\"Nejlepší počet PCA komponent/dimenze:\", PCA_NB_best_dim)\n",
    "print(\"Validační přesnost při nejlepší dimenzi:\", PCA_NB_best_acc)"
   ]
  },
  {
   "cell_type": "code",
   "execution_count": 165,
   "metadata": {},
   "outputs": [
    {
     "data": {
      "image/png": "[encoded data removed]",
      "text/plain": [
       "<Figure size 1000x500 with 1 Axes>"
      ]
     },
     "metadata": {},
     "output_type": "display_data"
    }
   ],
   "source": [
    "dims = list(range(1, 100, 3))\n",
    "\n",
    "plt.figure(figsize=(10, 5))\n",
    "plt.plot(dims, PCA_NB_val_acc, marker='o', linestyle='-', color='deeppink')\n",
    "plt.xlabel(\"Počet PCA komponent\")\n",
    "plt.ylabel(\"Validační přesnost\")\n",
    "plt.grid(True)\n",
    "plt.tight_layout()\n",
    "plt.show()"
   ]
  },
  {
   "cell_type": "markdown",
   "metadata": {},
   "source": [
    "Tady je přesnost vysoká hned od začátku a celou dobu se pohybuje kolem velmi podobných hodnot."
   ]
  },
  {
   "cell_type": "markdown",
   "metadata": {},
   "source": [
    "#### LDA"
   ]
  },
  {
   "cell_type": "code",
   "execution_count": 168,
   "metadata": {},
   "outputs": [],
   "source": [
    "PCA_LDA_val_acc = []\n",
    "PCA_LDA_best_acc = 0\n",
    "PCA_LDA_best_dim = 0\n",
    "PCA_LDA_best_model = None\n",
    "best_pca_LDA = None\n",
    "\n",
    "for i in range(1, 100, 3):\n",
    "    pca = PCA(n_components=i)\n",
    "    Xtrain_pca = pca.fit_transform(Xtrain)\n",
    "    Xval_pca = pca.transform(Xval)\n",
    "    \n",
    "    clf = LinearDiscriminantAnalysis()\n",
    "    clf.fit(Xtrain_pca, Ytrain)\n",
    "    \n",
    "    current_val_acc = metrics.accuracy_score(Yval, clf.predict(Xval_pca))\n",
    "    PCA_LDA_val_acc.append(current_val_acc)\n",
    "\n",
    "    if current_val_acc > PCA_LDA_best_acc:\n",
    "        PCA_LDA_best_acc = current_val_acc\n",
    "        PCA_LDA_best_dim = i\n",
    "        PCA_LDA_best_model = clf\n",
    "        best_pca_LDA = pca"
   ]
  },
  {
   "cell_type": "code",
   "execution_count": 169,
   "metadata": {},
   "outputs": [
    {
     "name": "stdout",
     "output_type": "stream",
     "text": [
      "Nejlepší počet PCA komponent/dimenze: 13\n",
      "Validační přesnost při nejlepší dimenzi: 0.9266666666666666\n"
     ]
    }
   ],
   "source": [
    "print(\"Nejlepší počet PCA komponent/dimenze:\", PCA_LDA_best_dim)\n",
    "print(\"Validační přesnost při nejlepší dimenzi:\", PCA_LDA_best_acc)"
   ]
  },
  {
   "cell_type": "code",
   "execution_count": 171,
   "metadata": {},
   "outputs": [
    {
     "data": {
      "image/png": "[encoded data removed]",
      "text/plain": [
       "<Figure size 1000x500 with 1 Axes>"
      ]
     },
     "metadata": {},
     "output_type": "display_data"
    }
   ],
   "source": [
    "dims = list(range(1, 100, 3))\n",
    "\n",
    "plt.figure(figsize=(10, 5))\n",
    "plt.plot(dims, PCA_LDA_val_acc, marker='o', linestyle='-', color='crimson')\n",
    "plt.xlabel(\"Počet PCA komponent\")\n",
    "plt.ylabel(\"Validační přesnost\")\n",
    "plt.grid(True)\n",
    "plt.tight_layout()\n",
    "plt.show()"
   ]
  },
  {
   "cell_type": "markdown",
   "metadata": {},
   "source": [
    "### LLE"
   ]
  },
  {
   "cell_type": "markdown",
   "metadata": {},
   "source": [
    "Lokálně lineární vnoření je taktéž metoda sloužící k redukci dimenze dat, užitečná pro nelineárně rozdělená data. Funguje tak, že pro každý datový bod najde k jeho nejbližších sousedů, tento bod vyjádří jako lineární kombinaci svých sousedů a na základě těchto čísel najde způsob reprezentace bodů v nižší dimenzi, která ale zachová původní geometrické vztahy mezi body. Jako toto k zkouším postupně čísla 5, 10, 15 a n_components v tomto případě znamená počet komponent neboli dimenzí, které vytvoří."
   ]
  },
  {
   "cell_type": "markdown",
   "metadata": {},
   "source": [
    "#### Metoda podpůrných vektorů"
   ]
  },
  {
   "cell_type": "code",
   "execution_count": 173,
   "metadata": {},
   "outputs": [],
   "source": [
    "param_grid_lle = {\n",
    "    'n_neighbors' : [5, 10, 15],\n",
    "    'n_components' : range(1,60,3)\n",
    "}\n",
    "param_grid_svc = {\n",
    "    'C': [0.01, 0.1, 1, 10, 100],   \n",
    "    'kernel': ['poly', 'rbf', 'linear'] \n",
    "}\n",
    "param_comb_svc = ParameterGrid(param_grid_svc)\n",
    "param_comb_lle = ParameterGrid(param_grid_lle)"
   ]
  },
  {
   "cell_type": "code",
   "execution_count": 228,
   "metadata": {},
   "outputs": [],
   "source": [
    "LLE_SVC_results = []\n",
    "LLE_SVC_best_acc = 0\n",
    "best_config = {}\n",
    "\n",
    "for lle_params in param_comb_lle:\n",
    "    lle = LocallyLinearEmbedding(n_components=lle_params['n_components'], n_neighbors=lle_params['n_neighbors'],method='standard')\n",
    "\n",
    "    Xtrain_lle = lle.fit_transform(Xtrain)\n",
    "    Xval_lle = lle.transform(Xval)\n",
    "\n",
    "    for svc_params in param_comb_svc:\n",
    "        clf = SVC(**svc_params)\n",
    "        clf.fit(Xtrain_lle, Ytrain)\n",
    "\n",
    "        current_val_acc = metrics.accuracy_score(Yval, clf.predict(Xval_lle))\n",
    "        LLE_SVC_results.append((lle_params, svc_params, current_val_acc))\n",
    "\n",
    "        if current_val_acc > LLE_SVC_best_acc:\n",
    "            LLE_SVC_best_acc = current_val_acc\n",
    "            best_config = {\n",
    "                'lle_params': lle_params,\n",
    "                'svc_params': svc_params,\n",
    "                'model': clf\n",
    "            }"
   ]
  },
  {
   "cell_type": "code",
   "execution_count": 229,
   "metadata": {},
   "outputs": [
    {
     "name": "stdout",
     "output_type": "stream",
     "text": [
      "Nejlepší LLE parametry:\n",
      "  • n_neighbors = 15\n",
      "  • n_components = 22\n",
      "Validační přesnost = 0.946667\n"
     ]
    }
   ],
   "source": [
    "print(\"Nejlepší LLE parametry:\")\n",
    "print(f\"  • n_neighbors = {best_config['lle_params']['n_neighbors']}\")\n",
    "print(f\"  • n_components = {best_config['lle_params']['n_components']}\")\n",
    "print(f\"Validační přesnost = {LLE_SVC_best_acc:.6f}\")"
   ]
  },
  {
   "cell_type": "markdown",
   "metadata": {},
   "source": [
    "#### Naivní Bayesův klasifikátor"
   ]
  },
  {
   "cell_type": "code",
   "execution_count": 187,
   "metadata": {},
   "outputs": [],
   "source": [
    "results_nb = []\n",
    "LLE_NB_best_acc = 0\n",
    "best_config_nb = {}\n",
    "\n",
    "for n in [5, 10, 15]:\n",
    "    for d in range(1, 100, 3):\n",
    "        lle = LocallyLinearEmbedding(n_components=d, n_neighbors=n, method='standard')\n",
    "\n",
    "        Xtrain_lle = lle.fit_transform(Xtrain)\n",
    "        Xval_lle = lle.transform(Xval)\n",
    "\n",
    "        clf = GaussianNB()\n",
    "        clf.fit(Xtrain_lle, Ytrain)\n",
    "\n",
    "        current_val_acc = metrics.accuracy_score(Yval, clf.predict(Xval_lle))\n",
    "\n",
    "        results_nb.append((n, d, current_val_acc))\n",
    "\n",
    "        if current_val_acc > LLE_NB_best_acc:\n",
    "            LLE_NB_best_acc = current_val_acc\n",
    "            best_config_nb = {\n",
    "                'n_neighbors': n,\n",
    "                'n_components': d,\n",
    "                'model': clf\n",
    "            }"
   ]
  },
  {
   "cell_type": "code",
   "execution_count": 189,
   "metadata": {},
   "outputs": [
    {
     "name": "stdout",
     "output_type": "stream",
     "text": [
      "Nejlepší LLE parametry:\n",
      "  • n_neighbors = 10\n",
      "  • n_components = 34\n",
      "Validační přesnost = 0.906667\n"
     ]
    }
   ],
   "source": [
    "print(\"Nejlepší LLE parametry:\")\n",
    "print(f\"  • n_neighbors = {best_config_nb['n_neighbors']}\")\n",
    "print(f\"  • n_components = {best_config_nb['n_components']}\")\n",
    "print(f\"Validační přesnost = {LLE_NB_best_acc:.6f}\")"
   ]
  },
  {
   "cell_type": "markdown",
   "metadata": {},
   "source": [
    "#### LDA"
   ]
  },
  {
   "cell_type": "code",
   "execution_count": 191,
   "metadata": {},
   "outputs": [],
   "source": [
    "results_lda = []\n",
    "LLE_LDA_best_acc = 0\n",
    "best_config_lda = {}\n",
    "\n",
    "for n in [5, 10, 15]:\n",
    "    for d in range(1, 100, 3):\n",
    "        lle = LocallyLinearEmbedding(n_components=d, n_neighbors=n, method='standard')\n",
    "\n",
    "        Xtrain_lle = lle.fit_transform(XtrainMinMax)\n",
    "        Xval_lle = lle.transform(XvalMinMax)\n",
    "\n",
    "        clf = LinearDiscriminantAnalysis()\n",
    "        clf.fit(Xtrain_lle, Ytrain)\n",
    "\n",
    "        current_val_acc = metrics.accuracy_score(Yval, clf.predict(Xval_lle))\n",
    "\n",
    "        results_lda.append((n, d, current_val_acc))\n",
    "\n",
    "        if current_val_acc > LLE_LDA_best_acc:\n",
    "            LLE_LDA_best_acc = current_val_acc\n",
    "            best_config_lda = {\n",
    "                'n_neighbors': n,\n",
    "                'n_components': d,\n",
    "                'model': clf\n",
    "            }"
   ]
  },
  {
   "cell_type": "code",
   "execution_count": 192,
   "metadata": {},
   "outputs": [
    {
     "name": "stdout",
     "output_type": "stream",
     "text": [
      "Nejlepší LLE parametry:\n",
      "  • n_neighbors = 15\n",
      "  • n_components = 82\n",
      "Validační přesnost = 0.926667\n"
     ]
    }
   ],
   "source": [
    "print(\"Nejlepší LLE parametry:\")\n",
    "print(f\"  • n_neighbors = {best_config_lda['n_neighbors']}\")\n",
    "print(f\"  • n_components = {best_config_lda['n_components']}\")\n",
    "print(f\"Validační přesnost = {LLE_LDA_best_acc:.6f}\")"
   ]
  },
  {
   "cell_type": "markdown",
   "metadata": {},
   "source": [
    "## Výběr finálního modelu a aplikace na evaluační data"
   ]
  },
  {
   "cell_type": "code",
   "execution_count": 200,
   "metadata": {},
   "outputs": [
    {
     "name": "stdout",
     "output_type": "stream",
     "text": [
      "Přesnosti modelů na validační množině:\n",
      "0.936667 SVM\n",
      "0.836667 NB\n",
      "0.800000 LDA\n",
      "0.950000 PCA SVM\n",
      "0.886667 PCA NB\n",
      "0.926667 PCA LDA\n",
      "0.920000 LLE SVM\n",
      "0.906667 LLE NB\n",
      "0.926667 LLE LDA\n"
     ]
    }
   ],
   "source": [
    "print(\"Přesnosti modelů na validační množině:\")\n",
    "print('{0:.6f} SVM'.format(SVM_val_acc_best))\n",
    "print('{0:.6f} NB'.format(NB_val_acc_best))\n",
    "print('{0:.6f} LDA'.format(LDA_val_acc_best))\n",
    "print('{0:.6f} PCA SVM'.format(PCA_SVM_best_acc))\n",
    "print('{0:.6f} PCA NB'.format(PCA_NB_best_acc))\n",
    "print('{0:.6f} PCA LDA'.format(PCA_LDA_best_acc))\n",
    "print('{0:.6f} LLE SVM'.format(LLE_SVM_best_acc))\n",
    "print('{0:.6f} LLE NB'.format(LLE_NB_best_acc))\n",
    "print('{0:.6f} LLE LDA'.format(LLE_LDA_best_acc))"
   ]
  },
  {
   "cell_type": "markdown",
   "metadata": {},
   "source": [
    "Jako nejlepší model se jeví metoda podpůrných vektorů za použití PCA. Nejlepší parametry jsem si při tomto výpočtu vypsala a nyní je aplikuji na testovací data, abych zjistila očekávanou přesnost modelu."
   ]
  },
  {
   "cell_type": "code",
   "execution_count": 220,
   "metadata": {},
   "outputs": [
    {
     "name": "stdout",
     "output_type": "stream",
     "text": [
      "Očekávaná přesnost modelu: 0.956667\n"
     ]
    }
   ],
   "source": [
    "pca = PCA(n_components=55)\n",
    "X_train = pca.fit_transform(Xtrain)\n",
    "X_test = pca.transform(Xtest)\n",
    "\n",
    "svc_clf = SVC(kernel='rbf', C=10).fit(X_train, Ytrain)\n",
    "print('Očekávaná přesnost modelu: {0:.6f}'.format(metrics.accuracy_score(Ytest, svc_clf.predict(X_test))))"
   ]
  },
  {
   "cell_type": "markdown",
   "metadata": {},
   "source": [
    "95 procent je velmi dobrý výsledek, teď tento natrénovaný model aplikuji na evaluační data a uložím do souboru results.csv"
   ]
  },
  {
   "cell_type": "code",
   "execution_count": null,
   "metadata": {},
   "outputs": [],
   "source": [
    "evl_index = evl.iloc[:, :1]\n",
    "evl = evl.iloc[:, 1:]\n",
    "\n",
    "evl = pca.transform(evl)\n",
    "predict = svc_clf.predict(evl)\n",
    "\n",
    "results = pd.DataFrame({'ID': evl_index.iloc[:, 0].ravel(), 'label': predict})\n",
    "results.to_csv('results.csv', index=False)"
   ]
  },
  {
   "cell_type": "code",
   "execution_count": 225,
   "metadata": {},
   "outputs": [
    {
     "data": {
      "text/html": [
       "<div>\n",
       "<style scoped>\n",
       "    .dataframe tbody tr th:only-of-type {\n",
       "        vertical-align: middle;\n",
       "    }\n",
       "\n",
       "    .dataframe tbody tr th {\n",
       "        vertical-align: top;\n",
       "    }\n",
       "\n",
       "    .dataframe thead th {\n",
       "        text-align: right;\n",
       "    }\n",
       "</style>\n",
       "<table border=\"1\" class=\"dataframe\">\n",
       "  <thead>\n",
       "    <tr style=\"text-align: right;\">\n",
       "      <th></th>\n",
       "      <th>ID</th>\n",
       "      <th>label</th>\n",
       "    </tr>\n",
       "  </thead>\n",
       "  <tbody>\n",
       "    <tr>\n",
       "      <th>0</th>\n",
       "      <td>0</td>\n",
       "      <td>1</td>\n",
       "    </tr>\n",
       "    <tr>\n",
       "      <th>1</th>\n",
       "      <td>1</td>\n",
       "      <td>0</td>\n",
       "    </tr>\n",
       "    <tr>\n",
       "      <th>2</th>\n",
       "      <td>2</td>\n",
       "      <td>0</td>\n",
       "    </tr>\n",
       "    <tr>\n",
       "      <th>3</th>\n",
       "      <td>3</td>\n",
       "      <td>0</td>\n",
       "    </tr>\n",
       "    <tr>\n",
       "      <th>4</th>\n",
       "      <td>4</td>\n",
       "      <td>0</td>\n",
       "    </tr>\n",
       "    <tr>\n",
       "      <th>5</th>\n",
       "      <td>5</td>\n",
       "      <td>0</td>\n",
       "    </tr>\n",
       "    <tr>\n",
       "      <th>6</th>\n",
       "      <td>6</td>\n",
       "      <td>1</td>\n",
       "    </tr>\n",
       "    <tr>\n",
       "      <th>7</th>\n",
       "      <td>7</td>\n",
       "      <td>1</td>\n",
       "    </tr>\n",
       "    <tr>\n",
       "      <th>8</th>\n",
       "      <td>8</td>\n",
       "      <td>1</td>\n",
       "    </tr>\n",
       "    <tr>\n",
       "      <th>9</th>\n",
       "      <td>9</td>\n",
       "      <td>0</td>\n",
       "    </tr>\n",
       "  </tbody>\n",
       "</table>\n",
       "</div>"
      ],
      "text/plain": [
       "   ID  label\n",
       "0   0      1\n",
       "1   1      0\n",
       "2   2      0\n",
       "3   3      0\n",
       "4   4      0\n",
       "5   5      0\n",
       "6   6      1\n",
       "7   7      1\n",
       "8   8      1\n",
       "9   9      0"
      ]
     },
     "execution_count": 225,
     "metadata": {},
     "output_type": "execute_result"
    }
   ],
   "source": [
    "results.head(10)"
   ]
  }
 ],
 "metadata": {
  "kernelspec": {
   "display_name": "Python 3 (ipykernel)",
   "language": "python",
   "name": "python3"
  },
  "language_info": {
   "codemirror_mode": {
    "name": "ipython",
    "version": 3
   },
   "file_extension": ".py",
   "mimetype": "text/x-python",
   "name": "python",
   "nbconvert_exporter": "python",
   "pygments_lexer": "ipython3",
   "version": "3.10.12"
  }
 },
 "nbformat": 4,
 "nbformat_minor": 4
}
